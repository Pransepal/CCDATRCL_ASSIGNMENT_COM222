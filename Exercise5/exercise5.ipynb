{
  "cells": [
    {
      "cell_type": "markdown",
      "metadata": {
        "id": "5T-vcRTqingF"
      },
      "source": [
        "# Exercise 5"
      ]
    },
    {
      "cell_type": "markdown",
      "metadata": {
        "id": "LrVHYlj5inie"
      },
      "source": [
        "#### 1. Create a dictionary of your 10 favorite songs."
      ]
    },
    {
      "cell_type": "markdown",
      "metadata": {
        "id": "2PwTb232inif"
      },
      "source": [
        "Example:\n",
        "\n",
        "|KEY|VALUE|\n",
        "|---|---|\n",
        "|001|My Love|\n",
        "|002|Like a rose|"
      ]
    },
    {
      "cell_type": "code",
      "execution_count": 75,
      "metadata": {
        "id": "i6y8y3rXinix"
      },
      "outputs": [
        {
          "name": "stdout",
          "output_type": "stream",
          "text": [
            "{'001': 'Mahal Kita', '002': 'Di Bale Na', '003': 'Sinderela', '004': 'Dinamalayan', '005': 'Umaasa', '006': 'Let Her Go', '007': 'Anti-Hero', '008': 'Back To December', '009': 'Moonlight', '010': 'Death Bed'}\n"
          ]
        }
      ],
      "source": [
        "# put your answer here\n",
        "mydictionary = {\n",
        "  \"001\": \"Mahal Kita\",\n",
        "  \"002\": \"Di Bale Na\",\n",
        "  \"003\": \"Sinderela\",\n",
        "  \"004\": \"Dinamalayan\",\n",
        "  \"005\": \"Umaasa\",\n",
        "  \"006\": \"Let Her Go\",\n",
        "  \"007\": \"Anti-Hero\",\n",
        "  \"008\": \"Back To December\",\n",
        "  \"009\": \"Moonlight\",\n",
        "  \"010\": \"Death Bed\",\n",
        "}\n",
        "print(mydictionary)"
      ]
    },
    {
      "cell_type": "markdown",
      "metadata": {
        "id": "iBakR4NZini0"
      },
      "source": [
        "#### 2. Loop through the dictionary by its **key** and **value**"
      ]
    },
    {
      "cell_type": "code",
      "execution_count": 76,
      "metadata": {
        "id": "-kp5WUbHini1"
      },
      "outputs": [
        {
          "name": "stdout",
          "output_type": "stream",
          "text": [
            "001 Mahal Kita\n",
            "002 Di Bale Na\n",
            "003 Sinderela\n",
            "004 Dinamalayan\n",
            "005 Umaasa\n",
            "006 Let Her Go\n",
            "007 Anti-Hero\n",
            "008 Back To December\n",
            "009 Moonlight\n",
            "010 Death Bed\n"
          ]
        }
      ],
      "source": [
        "# put your answer here\n",
        "for x, y in mydictionary.items():\n",
        "  print(x, y)"
      ]
    },
    {
      "cell_type": "markdown",
      "metadata": {
        "id": "n2-Kn-e6ini1"
      },
      "source": [
        "#### 3. Add one additional song"
      ]
    },
    {
      "cell_type": "code",
      "execution_count": 77,
      "metadata": {
        "id": "2eHKllodini2"
      },
      "outputs": [
        {
          "data": {
            "text/plain": [
              "{'001': 'Mahal Kita',\n",
              " '002': 'Di Bale Na',\n",
              " '003': 'Sinderela',\n",
              " '004': 'Dinamalayan',\n",
              " '005': 'Umaasa',\n",
              " '006': 'Let Her Go',\n",
              " '007': 'Anti-Hero',\n",
              " '008': 'Back To December',\n",
              " '009': 'Moonlight',\n",
              " '010': 'Death Bed',\n",
              " '011': 'Sofia The First Theme Song'}"
            ]
          },
          "execution_count": 77,
          "metadata": {},
          "output_type": "execute_result"
        }
      ],
      "source": [
        "# put your answer here\n",
        "mydictionary.update({\"011\": \"Sofia The First Theme Song\"})\n",
        "mydictionary"
      ]
    },
    {
      "cell_type": "markdown",
      "metadata": {
        "id": "7QWU45DLini3"
      },
      "source": [
        "#### 4. Remove one song"
      ]
    },
    {
      "cell_type": "code",
      "execution_count": 78,
      "metadata": {
        "id": "yHvR54ogini6"
      },
      "outputs": [
        {
          "data": {
            "text/plain": [
              "{'001': 'Mahal Kita',\n",
              " '002': 'Di Bale Na',\n",
              " '003': 'Sinderela',\n",
              " '004': 'Dinamalayan',\n",
              " '005': 'Umaasa',\n",
              " '006': 'Let Her Go',\n",
              " '007': 'Anti-Hero',\n",
              " '008': 'Back To December',\n",
              " '009': 'Moonlight',\n",
              " '011': 'Sofia The First Theme Song'}"
            ]
          },
          "execution_count": 78,
          "metadata": {},
          "output_type": "execute_result"
        }
      ],
      "source": [
        "# put your answer here\n",
        "mydictionary.pop(\"010\")\n",
        "mydictionary"
      ]
    },
    {
      "cell_type": "markdown",
      "metadata": {
        "id": "-CmBY_dXinjE"
      },
      "source": [
        "#### 5. Create a nested dictionary of your 10 favorite songs with 5 genres. Display all of the items of the nested dictionary\n",
        "\n",
        "- Each nested dictionary's key should be the genre of the song\n",
        "- Put each song in their respective genre"
      ]
    },
    {
      "cell_type": "markdown",
      "metadata": {
        "id": "y00SREA3injJ"
      },
      "source": [
        "Example:\n",
        "\n",
        "\n",
        "|KEY|VALUE|\n",
        "|---|---|\n",
        "|Pop|{001, Baby}|\n",
        "|Rock|{001, Enter Sandman}|"
      ]
    },
    {
      "cell_type": "code",
      "execution_count": 79,
      "metadata": {
        "id": "nhWdF6tjinjK"
      },
      "outputs": [
        {
          "data": {
            "text/plain": [
              "{'OPM': {'001': 'Mahal Kita',\n",
              "  '002': 'Di Bale Na',\n",
              "  '003': 'Sinderela',\n",
              "  '004': 'Dinamalayan',\n",
              "  '005': 'Umaasa'},\n",
              " 'Indie Folk': {'001': 'Let Her Go'},\n",
              " 'Pop': {'007': 'Anti-Hero', '008': 'Back To December'},\n",
              " 'Rap': {'009': 'Moonlight'},\n",
              " \"children's music\": {'011': 'Sofia The First Theme Song'}}"
            ]
          },
          "execution_count": 79,
          "metadata": {},
          "output_type": "execute_result"
        }
      ],
      "source": [
        "# put your answer here\n",
        "mydictionary = {\n",
        "  \"OPM\" : {\n",
        "    \"001\" : \"Mahal Kita\",\n",
        "    \"002\" : \"Di Bale Na\",\n",
        "    \"003\" : \"Sinderela\",\n",
        "    \"004\" : \"Dinamalayan\",\n",
        "    \"005\" : \"Umaasa\"\n",
        "  },\n",
        "  \"Indie Folk\" : {\n",
        "    \"001\" : \"Let Her Go\"\n",
        "  },\n",
        "  \"Pop\" : {\n",
        "    \"007\" : \"Anti-Hero\",\n",
        "    \"008\" : \"Back To December\"\n",
        "  },\n",
        "  \"Rap\" : {\n",
        "    \"009\" : \"Moonlight\"\n",
        "  },\n",
        "  \"children's music\" : {\n",
        "    \"011\" : \"Sofia The First Theme Song\"\n",
        "  }\n",
        "}\n",
        "\n",
        "mydictionary"
      ]
    },
    {
      "cell_type": "markdown",
      "metadata": {
        "id": "WLvQpJrsinjM"
      },
      "source": [
        "#### 6. Print the first song of the first genre"
      ]
    },
    {
      "cell_type": "code",
      "execution_count": 80,
      "metadata": {
        "id": "YyfbIO96injN"
      },
      "outputs": [
        {
          "name": "stdout",
          "output_type": "stream",
          "text": [
            "Mahal Kita\n"
          ]
        }
      ],
      "source": [
        "# put your answer here\n",
        "print(mydictionary[\"OPM\"][\"001\"])"
      ]
    },
    {
      "cell_type": "markdown",
      "metadata": {
        "id": "KTv2pH0winjN"
      },
      "source": [
        "#### 7. Print the first song of the last genre"
      ]
    },
    {
      "cell_type": "code",
      "execution_count": 81,
      "metadata": {
        "id": "WbKVg_RZinjN"
      },
      "outputs": [
        {
          "name": "stdout",
          "output_type": "stream",
          "text": [
            "Sofia The First Theme Song\n"
          ]
        }
      ],
      "source": [
        "# put your answer here\n",
        "print(mydictionary[\"children's music\"][\"011\"])"
      ]
    }
  ],
  "metadata": {
    "colab": {
      "provenance": []
    },
    "kernelspec": {
      "display_name": "Python 3",
      "language": "python",
      "name": "python3"
    },
    "language_info": {
      "codemirror_mode": {
        "name": "ipython",
        "version": 3
      },
      "file_extension": ".py",
      "mimetype": "text/x-python",
      "name": "python",
      "nbconvert_exporter": "python",
      "pygments_lexer": "ipython3",
      "version": "3.11.0"
    },
    "orig_nbformat": 4
  },
  "nbformat": 4,
  "nbformat_minor": 0
}
