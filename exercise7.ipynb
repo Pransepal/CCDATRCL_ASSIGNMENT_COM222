{
  "cells": [
    {
      "cell_type": "markdown",
      "metadata": {
        "id": "view-in-github",
        "colab_type": "text"
      },
      "source": [
        "<a href=\"https://colab.research.google.com/github/Pransepal/CCDATRCL_ASSIGNMENT_COM222/blob/main/exercise7.ipynb\" target=\"_parent\"><img src=\"https://colab.research.google.com/assets/colab-badge.svg\" alt=\"Open In Colab\"/></a>"
      ]
    },
    {
      "cell_type": "markdown",
      "metadata": {
        "id": "e3Ja3uozAJlw"
      },
      "source": [
        "# Exercise 7"
      ]
    },
    {
      "cell_type": "code",
      "execution_count": 33,
      "metadata": {
        "id": "IW6uTwU8AJly"
      },
      "outputs": [],
      "source": [
        "class Node:\n",
        "    def __init__(self, item):\n",
        "        self.left = None\n",
        "        self.right = None\n",
        "        self.val = item"
      ]
    },
    {
      "cell_type": "code",
      "execution_count": 34,
      "metadata": {
        "id": "uxVFuimIAJlz"
      },
      "outputs": [],
      "source": [
        "def evaluateExpressionTree(root):\n",
        "\n",
        "    # empty tree\n",
        "    if root is None:\n",
        "        return 0\n",
        "\n",
        "    # leaf node\n",
        "    if root.left is None and root.right is None:\n",
        "        return int(root.val)\n",
        "\n",
        "    # evaluate left tree\n",
        "    left_sum = evaluateExpressionTree(root.left)\n",
        "\n",
        "    # evaluate right tree\n",
        "    right_sum = evaluateExpressionTree(root.right)\n",
        "\n",
        "    # check which operation to apply\n",
        "    if root.val == '+':\n",
        "        return left_sum + right_sum\n",
        "\n",
        "    elif root.val == '-':\n",
        "        return left_sum - right_sum\n",
        "\n",
        "    elif root.val == '*':\n",
        "        return left_sum * right_sum\n",
        "\n",
        "    else:\n",
        "        return left_sum // right_sum"
      ]
    },
    {
      "cell_type": "code",
      "execution_count": 35,
      "metadata": {
        "id": "-xWZXA-mAJl0"
      },
      "outputs": [],
      "source": [
        "def inorder(root):\n",
        "\n",
        "    if root:\n",
        "        # Traverse left\n",
        "        inorder(root.left)\n",
        "        # Traverse root\n",
        "        print(str(root.val) + \"->\", end='')\n",
        "        # Traverse right\n",
        "        inorder(root.right)"
      ]
    },
    {
      "cell_type": "markdown",
      "metadata": {
        "id": "CVtqxh5DAJl1"
      },
      "source": [
        "#### 1. Construct a binary expression tree\n",
        "\n",
        "$ (8 + 4) * (7 - 9) $"
      ]
    },
    {
      "cell_type": "code",
      "execution_count": 36,
      "metadata": {
        "id": "CxpP0zcVAJl1"
      },
      "outputs": [],
      "source": [
        "# put your answer here\n",
        "\n",
        "root = Node (\"*\")\n",
        "node1 = Node(\"+\")\n",
        "node2 = Node(\"8\")\n",
        "node3 = Node(\"4\")\n",
        "node4 = Node(\"-\")\n",
        "node5 = Node(\"7\")\n",
        "node6 = Node(\"9\")\n",
        "\n",
        "root.left = node1\n",
        "root.left.left = node2\n",
        "root.left.right = node3\n",
        "root.right = node4\n",
        "root.right.left = node5\n",
        "root.right.right = node6"
      ]
    },
    {
      "cell_type": "code",
      "source": [
        "evaluateExpressionTree(root)"
      ],
      "metadata": {
        "colab": {
          "base_uri": "https://localhost:8080/"
        },
        "id": "CWQr3AGsHG6T",
        "outputId": "8fc0bdd6-2a71-41ed-9464-a6359ff0c615"
      },
      "execution_count": 37,
      "outputs": [
        {
          "output_type": "execute_result",
          "data": {
            "text/plain": [
              "-24"
            ]
          },
          "metadata": {},
          "execution_count": 37
        }
      ]
    },
    {
      "cell_type": "code",
      "source": [
        "inorder(root)"
      ],
      "metadata": {
        "colab": {
          "base_uri": "https://localhost:8080/"
        },
        "id": "fAI-xHiAO8Ny",
        "outputId": "fb418510-8b71-483d-8e3c-d8f0fc52c5d2"
      },
      "execution_count": 38,
      "outputs": [
        {
          "output_type": "stream",
          "name": "stdout",
          "text": [
            "8->+->4->*->7->-->9->"
          ]
        }
      ]
    },
    {
      "cell_type": "markdown",
      "metadata": {
        "id": "jc5KHLk6AJl2"
      },
      "source": [
        "#### 2. Construct a binary expression tree\n",
        "\n",
        "$ 5 / 8 + 3 - 6 * 1 $"
      ]
    },
    {
      "cell_type": "code",
      "execution_count": 39,
      "metadata": {
        "id": "XORzqkC3AJl2"
      },
      "outputs": [],
      "source": [
        "# put your answer here\n",
        "root = Node (\"+\")\n",
        "nodeDivide = Node (\"/\")\n",
        "node1 = Node (\"5\")\n",
        "node2 = Node (\"8\")\n",
        "nodeMinus = Node (\"-\")\n",
        "node3 = Node (\"3\")\n",
        "nodeMultiply = Node (\"*\")\n",
        "node4 = Node (\"6\")\n",
        "node5 = Node (\"1\")\n",
        "\n",
        "root.left = nodeDivide\n",
        "root.left.left = node1\n",
        "root.left.right = node2\n",
        "root.right = nodeMinus\n",
        "root.right.left = node3\n",
        "root.right.right = nodeMultiply\n",
        "root.right.right.left = node4\n",
        "root.right.right.right = node5"
      ]
    },
    {
      "cell_type": "code",
      "source": [
        "evaluateExpressionTree(root)"
      ],
      "metadata": {
        "colab": {
          "base_uri": "https://localhost:8080/"
        },
        "id": "V4zYUXgLOqgX",
        "outputId": "b1781c07-36d4-4346-adcd-6a0c8e065d6f"
      },
      "execution_count": 40,
      "outputs": [
        {
          "output_type": "execute_result",
          "data": {
            "text/plain": [
              "-3"
            ]
          },
          "metadata": {},
          "execution_count": 40
        }
      ]
    },
    {
      "cell_type": "code",
      "source": [
        "inorder(root)"
      ],
      "metadata": {
        "colab": {
          "base_uri": "https://localhost:8080/"
        },
        "id": "MF7mZLdFOnqw",
        "outputId": "7c63948a-6c9a-43de-c979-ea96154084ac"
      },
      "execution_count": 41,
      "outputs": [
        {
          "output_type": "stream",
          "name": "stdout",
          "text": [
            "5->/->8->+->3->-->6->*->1->"
          ]
        }
      ]
    },
    {
      "cell_type": "markdown",
      "metadata": {
        "id": "tu3n5ZdWAJl2"
      },
      "source": [
        "#### 3. Construct a binary expression tree\n",
        "\n",
        "$ ((2 + 5) / 3)- (3 + 8) $"
      ]
    },
    {
      "cell_type": "code",
      "execution_count": 42,
      "metadata": {
        "id": "5GvZBxgtAJl3"
      },
      "outputs": [],
      "source": [
        "# put your answer here\n",
        "root = Node (\"-\")\n",
        "nodeDivide = Node (\"/\")\n",
        "nodePlus = Node (\"+\")\n",
        "node1 = Node (\"2\")\n",
        "node2 = Node (\"5\")\n",
        "node3 = Node (\"3\")\n",
        "nodePlusRight = Node (\"+\")\n",
        "node4 = Node (\"3\")\n",
        "node5 = Node (\"8\")\n",
        "\n",
        "root.left = nodeDivide\n",
        "root.left.left = nodePlus\n",
        "root.left.left.left = node1\n",
        "root.left.left.right = node2\n",
        "root.left.right = node3\n",
        "root.right = nodePlusRight\n",
        "root.right.left = node4\n",
        "root.right.right = node5"
      ]
    },
    {
      "cell_type": "code",
      "source": [
        "evaluateExpressionTree(root)"
      ],
      "metadata": {
        "colab": {
          "base_uri": "https://localhost:8080/"
        },
        "id": "1mTNu5-POVb5",
        "outputId": "af34e35b-aebe-4a5a-ef33-24a79bb3d4c9"
      },
      "execution_count": 43,
      "outputs": [
        {
          "output_type": "execute_result",
          "data": {
            "text/plain": [
              "-9"
            ]
          },
          "metadata": {},
          "execution_count": 43
        }
      ]
    },
    {
      "cell_type": "code",
      "source": [
        "inorder(root)"
      ],
      "metadata": {
        "colab": {
          "base_uri": "https://localhost:8080/"
        },
        "id": "diw9MqB4OgAE",
        "outputId": "33758730-3b4f-4ec4-fbeb-d03742731f2b"
      },
      "execution_count": 44,
      "outputs": [
        {
          "output_type": "stream",
          "name": "stdout",
          "text": [
            "2->+->5->/->3->-->3->+->8->"
          ]
        }
      ]
    }
  ],
  "metadata": {
    "kernelspec": {
      "display_name": "Python 3",
      "language": "python",
      "name": "python3"
    },
    "language_info": {
      "codemirror_mode": {
        "name": "ipython",
        "version": 3
      },
      "file_extension": ".py",
      "mimetype": "text/x-python",
      "name": "python",
      "nbconvert_exporter": "python",
      "pygments_lexer": "ipython3",
      "version": "3.11.4"
    },
    "orig_nbformat": 4,
    "colab": {
      "provenance": [],
      "include_colab_link": true
    }
  },
  "nbformat": 4,
  "nbformat_minor": 0
}